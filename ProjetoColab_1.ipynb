{
  "nbformat": 4,
  "nbformat_minor": 0,
  "metadata": {
    "colab": {
      "provenance": [],
      "authorship_tag": "ABX9TyNcQfOvf0Z2rv5WYCsDImzh",
      "include_colab_link": true
    },
    "kernelspec": {
      "name": "python3",
      "display_name": "Python 3"
    },
    "language_info": {
      "name": "python"
    }
  },
  "cells": [
    {
      "cell_type": "markdown",
      "metadata": {
        "id": "view-in-github",
        "colab_type": "text"
      },
      "source": [
        "<a href=\"https://colab.research.google.com/github/NegociandoSemMedo/myfirst_colab/blob/main/ProjetoColab_1.ipynb\" target=\"_parent\"><img src=\"https://colab.research.google.com/assets/colab-badge.svg\" alt=\"Open In Colab\"/></a>"
      ]
    },
    {
      "cell_type": "markdown",
      "source": [
        "Instalando o pacote da IA do google"
      ],
      "metadata": {
        "id": "1wX_T1t-nVA1"
      }
    },
    {
      "cell_type": "code",
      "source": [
        "!pip install -q -U google-generativeai"
      ],
      "metadata": {
        "id": "hmWR4OZ3odXn"
      },
      "execution_count": 1,
      "outputs": []
    },
    {
      "cell_type": "markdown",
      "source": [
        "Configurando minha chave de acesso ao Gemini"
      ],
      "metadata": {
        "id": "KWWP4Izco3Mb"
      }
    },
    {
      "cell_type": "code",
      "source": [
        "# Import the Python SDK\n",
        "import google.generativeai as genai\n",
        "from google.colab import userdata\n",
        "GOOGLE_API_KEY = userdata.get('SECRET_KEY')\n",
        "genai.configure(api_key=GOOGLE_API_KEY)"
      ],
      "metadata": {
        "id": "_755a4GIo9wt"
      },
      "execution_count": 2,
      "outputs": []
    },
    {
      "cell_type": "markdown",
      "source": [
        "Exibir opçoes de modelo disponíveis"
      ],
      "metadata": {
        "id": "JY9ndzfsqGaF"
      }
    },
    {
      "cell_type": "code",
      "source": [
        "for m in genai.list_models():\n",
        "  if 'generateContent' in m.supported_generation_methods:\n",
        "    print(m.name)"
      ],
      "metadata": {
        "colab": {
          "base_uri": "https://localhost:8080/",
          "height": 139
        },
        "id": "7IWrdbV_qP-U",
        "outputId": "6b7c59a0-85a9-47be-95a5-69d5de0ec4f1"
      },
      "execution_count": 3,
      "outputs": [
        {
          "output_type": "stream",
          "name": "stdout",
          "text": [
            "models/gemini-1.0-pro\n",
            "models/gemini-1.0-pro-001\n",
            "models/gemini-1.0-pro-latest\n",
            "models/gemini-1.0-pro-vision-latest\n",
            "models/gemini-1.5-pro-latest\n",
            "models/gemini-pro\n",
            "models/gemini-pro-vision\n"
          ]
        }
      ]
    },
    {
      "cell_type": "markdown",
      "source": [
        "Configurando o modelo"
      ],
      "metadata": {
        "id": "5oI7eCyFscMB"
      }
    },
    {
      "cell_type": "code",
      "source": [
        "generation_config = {\n",
        "    \"candidate_count\": 1,\n",
        "    \"temperature\": 0.5,\n",
        "    \"top_k\": 40,\n",
        "    \"top_p\": 0.95,\n",
        "    \"typical_p\": 1,\n",
        "}"
      ],
      "metadata": {
        "id": "PS75eZ4_sftQ"
      },
      "execution_count": 4,
      "outputs": []
    },
    {
      "cell_type": "markdown",
      "source": [
        "Configurações de segurança"
      ],
      "metadata": {
        "id": "m0rzH5v_s1mZ"
      }
    },
    {
      "cell_type": "code",
      "source": [
        "safety_settings = {\n",
        "    \"HATE_SPEECH_FILTER\":\"BLOCK_SOME\",\n",
        "    \"SEXUAL_CONTENT_FILTER\":\"BLOCK_SOME\",\n",
        "    \"VIOLENCE_FILTER\":\"BLOCK_SOME\",\n",
        "    \"DANGEROUS_BEHAVIOUR_FILTER\":\"BLOCK_SOME\",\n",
        "    \"EXPLICIT_CONTENT_FILTER\":\"BLOCK_SOME\"\n",
        "}"
      ],
      "metadata": {
        "id": "spNNzQEFs321"
      },
      "execution_count": 5,
      "outputs": []
    },
    {
      "cell_type": "markdown",
      "source": [
        "Inicializando o modelo"
      ],
      "metadata": {
        "id": "XEVt4JQMuahp"
      }
    },
    {
      "cell_type": "code",
      "source": [
        "model = genai.GenerativeModel(model_name = 'gemini-1.0-pro')"
      ],
      "metadata": {
        "id": "E-hkFW5fudZA"
      },
      "execution_count": 6,
      "outputs": []
    },
    {
      "cell_type": "markdown",
      "source": [
        "Carregando chat"
      ],
      "metadata": {
        "id": "j9125mUPw23o"
      }
    },
    {
      "cell_type": "code",
      "source": [
        "chat = model.start_chat(history=[])"
      ],
      "metadata": {
        "id": "ienqSy8TxE67"
      },
      "execution_count": 11,
      "outputs": []
    },
    {
      "cell_type": "code",
      "source": [
        "prompt = input(\"Entre com o seu prompt: \")\n",
        "\n",
        "while prompt != \"fim\":\n",
        "  response = chat.send_message(prompt)\n",
        "  print(\"Resposta: \", response.text, \"\\n\")\n",
        "  prompt = input(\"Entre com o seu prompt ou fim: \")\n",
        "\n",
        "print(\"\\nAplicação finalizada\")"
      ],
      "metadata": {
        "colab": {
          "base_uri": "https://localhost:8080/"
        },
        "id": "iQfnUFNBy-KL",
        "outputId": "45dba660-d565-4fa4-c937-3771d2ea9fdc"
      },
      "execution_count": 14,
      "outputs": [
        {
          "output_type": "stream",
          "name": "stdout",
          "text": [
            "Entre com o seu prompt: fim\n",
            "\n",
            "Aplicação finalizada\n"
          ]
        }
      ]
    }
  ]
}